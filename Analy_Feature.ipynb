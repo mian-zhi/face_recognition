{
 "cells": [
  {
   "cell_type": "markdown",
   "metadata": {},
   "source": [
    "#### 特征值分析与可视化"
   ]
  },
  {
   "cell_type": "code",
   "execution_count": 2,
   "metadata": {},
   "outputs": [],
   "source": [
    "import numpy as np"
   ]
  },
  {
   "cell_type": "code",
   "execution_count": 3,
   "metadata": {},
   "outputs": [
    {
     "name": "stdout",
     "output_type": "stream",
     "text": [
      "type : <class 'numpy.ndarray'>\n",
      "shape : (1997, 3)\n",
      "dataset_feature :\n",
      "[[ 1.22300000e+03+0.j  1.00000000e+00+0.j -1.46768361e+02+0.j]\n",
      " [ 1.22400000e+03+0.j  1.00000000e+00+0.j -9.09718368e+01+0.j]\n",
      " [ 1.22500000e+03+0.j  1.00000000e+00+0.j  9.18925873e+00+0.j]\n",
      " ...\n",
      " [ 3.22000000e+03+0.j  0.00000000e+00+0.j  8.73037391e+01+0.j]\n",
      " [ 3.22100000e+03+0.j  0.00000000e+00+0.j -3.11673544e+02+0.j]\n",
      " [ 3.22200000e+03+0.j  0.00000000e+00+0.j -3.57584051e+02+0.j]]\n"
     ]
    }
   ],
   "source": [
    "# 测试加载数据集，并打印\n",
    "dataset_feature = np.load('./FaceDataset/dataset_feature.npy')\n",
    "print('type :', type(dataset_feature))\n",
    "print('shape :', dataset_feature.shape)\n",
    "print('dataset_feature :')\n",
    "print(dataset_feature)"
   ]
  },
  {
   "cell_type": "code",
   "execution_count": 4,
   "metadata": {},
   "outputs": [
    {
     "name": "stdout",
     "output_type": "stream",
     "text": [
      "max:  (728.2893884678208+0j)\n",
      "min:  (-775.3494049358791+0j)\n",
      "mean:  (-30.96022024142871+0j)\n",
      "median:  (-39.75979033237206+0j)\n",
      "std:  192.3481054008058\n"
     ]
    }
   ],
   "source": [
    "print(\"max: \" , np.max(dataset_feature[:,2]))\n",
    "print(\"min: \" , np.min(dataset_feature[:,2]))\n",
    "print(\"mean: \" , np.mean(dataset_feature[:,2]))#平均值\n",
    "print(\"median: \" , np.median(dataset_feature[:,2]))#中值\n",
    "print(\"std: \" , np.std(dataset_feature[:,2]))"
   ]
  },
  {
   "cell_type": "code",
   "execution_count": 5,
   "metadata": {},
   "outputs": [
    {
     "name": "stderr",
     "output_type": "stream",
     "text": [
      "d:\\ProgramData\\Anaconda3\\envs\\for2060\\lib\\site-packages\\matplotlib\\collections.py:200: ComplexWarning: Casting complex values to real discards the imaginary part\n",
      "  offsets = np.asanyarray(offsets, float)\n"
     ]
    },
    {
     "data": {
      "text/plain": [
       "<matplotlib.collections.PathCollection at 0x1835ad8b8c8>"
      ]
     },
     "execution_count": 5,
     "metadata": {},
     "output_type": "execute_result"
    },
    {
     "data": {
      "image/png": "[encoded data removed]",
      "text/plain": [
       "<Figure size 432x288 with 1 Axes>"
      ]
     },
     "metadata": {
      "needs_background": "light"
     },
     "output_type": "display_data"
    }
   ],
   "source": [
    "# 绘制散点图，观察特征值的分布情况\n",
    "import matplotlib.pyplot as plt\n",
    "\n",
    "plt.scatter(dataset_feature[:,2],dataset_feature[:,1])"
   ]
  },
  {
   "cell_type": "code",
   "execution_count": 6,
   "metadata": {},
   "outputs": [],
   "source": [
    "# 分离出男性和女性的特征值向量进行分析\n",
    "train_feature_male = np.zeros((0,3),dtype = float)\n",
    "train_feature_female = np.zeros((0,3),dtype = float)\n",
    "j = 0\n",
    "for line in dataset_feature:\n",
    "    if line[1] == 1:\n",
    "        train_feature_male = np.row_stack((train_feature_male,dataset_feature[j,0:3]))\n",
    "    j+=1\n",
    "j = 0\n",
    "for line in dataset_feature:\n",
    "    if line[1] == 0:\n",
    "        train_feature_female = np.row_stack((train_feature_female,dataset_feature[j,0:3]))\n",
    "    j+=1"
   ]
  },
  {
   "cell_type": "code",
   "execution_count": 7,
   "metadata": {},
   "outputs": [
    {
     "name": "stdout",
     "output_type": "stream",
     "text": [
      "(1150, 3)\n",
      "max :  (728.2893884678208+0j) mini :  (-366.3219926777546+0j)\n",
      "mean :  (76.31677381536886+0j) median :  (66.26592410413154+0j)\n",
      "[[ 1.22300000e+03+0.j  1.00000000e+00+0.j -1.46768361e+02+0.j]\n",
      " [ 1.22400000e+03+0.j  1.00000000e+00+0.j -9.09718368e+01+0.j]\n",
      " [ 1.22500000e+03+0.j  1.00000000e+00+0.j  9.18925873e+00+0.j]\n",
      " ...\n",
      " [ 3.14700000e+03+0.j  1.00000000e+00+0.j -4.27989423e+01+0.j]\n",
      " [ 3.14800000e+03+0.j  1.00000000e+00+0.j -3.46217898e+01+0.j]\n",
      " [ 3.14900000e+03+0.j  1.00000000e+00+0.j  1.67327322e+02+0.j]]\n"
     ]
    }
   ],
   "source": [
    "# 计算男性特征值的统计数据\n",
    "print(train_feature_male.shape)\n",
    "print(\"max : \" , np.max(train_feature_male[:,2]) , \"mini : \" , np.min(train_feature_male[:,2]))\n",
    "print(\"mean : \" , np.mean(train_feature_male[:,2]) , \"median : \" , np.median(train_feature_male[:,2]))\n",
    "print(train_feature_male)"
   ]
  },
  {
   "cell_type": "code",
   "execution_count": 8,
   "metadata": {},
   "outputs": [
    {
     "name": "stdout",
     "output_type": "stream",
     "text": [
      "(847, 3)\n",
      "max :  (374.9636336760183+0j) mini :  (-775.3494049358791+0j)\n",
      "mean :  (-176.61375408477844+0j) median :  (-175.59476204667448+0j)\n",
      "[[1252.        +0.j    0.        +0.j -163.44168691+0.j]\n",
      " [1256.        +0.j    0.        +0.j  -58.15420673+0.j]\n",
      " [1257.        +0.j    0.        +0.j -265.78397024+0.j]\n",
      " ...\n",
      " [3220.        +0.j    0.        +0.j   87.30373906+0.j]\n",
      " [3221.        +0.j    0.        +0.j -311.67354422+0.j]\n",
      " [3222.        +0.j    0.        +0.j -357.58405128+0.j]]\n"
     ]
    }
   ],
   "source": [
    "# 计算女性特征值的统计数据\n",
    "print(train_feature_female.shape)\n",
    "print(\"max : \" , np.max(train_feature_female[:,2]) , \"mini : \" , np.min(train_feature_female[:,2]))\n",
    "print(\"mean : \" , np.mean(train_feature_female[:,2]) , \"median : \" , np.median(train_feature_female[:,2]))\n",
    "print(train_feature_female)"
   ]
  },
  {
   "cell_type": "code",
   "execution_count": 9,
   "metadata": {},
   "outputs": [],
   "source": [
    "# x_labe = [\"-800~-6\" , \"-600~-400\" , \"-400~-200\" , \"-200~0\" , \"0~200\" , \"200~400\" , \"400~600\" , \"600~800\"]\n",
    "x_labels = [\"-750\" , \"-650\" , \"-550\" , \"-450\" , \"-350\" , \"-250\" , \"-150\" , \"-50\" , \"50\" , \"150\" , \"250\" , \"350\" , \"450\" , \"550\" , \"650\" , \"750\"]\n",
    "male_feature_y = [0 for x in range(0,8)]\n",
    "female_feature_y = [0 for x in range(0,8)]"
   ]
  },
  {
   "cell_type": "code",
   "execution_count": 10,
   "metadata": {},
   "outputs": [
    {
     "name": "stdout",
     "output_type": "stream",
     "text": [
      "[0, 0, 0, 0, 5, 38, 94, 236, 298, 243, 136, 65, 25, 7, 2]\n"
     ]
    }
   ],
   "source": [
    "male_feature_y = [0 for x in range(0,16)]\n",
    "\n",
    "for value in train_feature_male[:,2]:\n",
    "    if (value>-800 and value <-700):\n",
    "        male_feature_y[0]+=1\n",
    "    if (value>-700 and value <-600):\n",
    "        male_feature_y[1]+=1\n",
    "    if (value>-600 and value <-500):\n",
    "        male_feature_y[2]+=1\n",
    "    if (value>-500 and value <-400):\n",
    "        male_feature_y[3]+=1\n",
    "    if (value>-400 and value <-300):\n",
    "        male_feature_y[4]+=1\n",
    "    if (value>-300 and value <-200):\n",
    "        male_feature_y[5]+=1\n",
    "    if (value>-200 and value <-100):\n",
    "        male_feature_y[6]+=1\n",
    "    if (value>-100 and value <0):\n",
    "        male_feature_y[7]+=1\n",
    "    if (value>0 and value <100):\n",
    "        male_feature_y[8]+=1\n",
    "    if (value>100 and value <200):\n",
    "        male_feature_y[9]+=1\n",
    "    if (value>200 and value <300):\n",
    "        male_feature_y[10]+=1\n",
    "    if (value>300 and value <400):\n",
    "        male_feature_y[11]+=1\n",
    "    if (value>400 and value <500):\n",
    "        male_feature_y[12]+=1\n",
    "    if (value>500 and value <600):\n",
    "        male_feature_y[13]+=1\n",
    "    if (value>600 and value <700):\n",
    "        male_feature_y[14]+=1\n",
    "    if (value>700 and value <800):\n",
    "        male_feature_y[15]+=1\n",
    "print(male_feature_y[0:15])\n",
    "# total = 0\n",
    "# for ele in range(0, len(male_feature_y)):\n",
    "#     total = total + male_feature_y[ele]\n",
    "# print(total)"
   ]
  },
  {
   "cell_type": "code",
   "execution_count": 11,
   "metadata": {},
   "outputs": [
    {
     "name": "stdout",
     "output_type": "stream",
     "text": [
      "[1, 1, 3, 25, 96, 235, 266, 153, 50, 14, 1, 2, 0, 0, 0]\n"
     ]
    }
   ],
   "source": [
    "female_feature_y = [0 for x in range(0,16)]\n",
    "\n",
    "for value in train_feature_female[:,2]:\n",
    "    if (value>-800 and value <-700):\n",
    "        female_feature_y[0]+=1\n",
    "    if (value>-700 and value <-600):\n",
    "        female_feature_y[1]+=1\n",
    "    if (value>-600 and value <-500):\n",
    "        female_feature_y[2]+=1\n",
    "    if (value>-500 and value <-400):\n",
    "        female_feature_y[3]+=1\n",
    "    if (value>-400 and value <-300):\n",
    "        female_feature_y[4]+=1\n",
    "    if (value>-300 and value <-200):\n",
    "        female_feature_y[5]+=1\n",
    "    if (value>-200 and value <-100):\n",
    "        female_feature_y[6]+=1\n",
    "    if (value>-100 and value <0):\n",
    "        female_feature_y[7]+=1\n",
    "    if (value>0 and value <100):\n",
    "        female_feature_y[8]+=1\n",
    "    if (value>100 and value <200):\n",
    "        female_feature_y[9]+=1\n",
    "    if (value>200 and value <300):\n",
    "        female_feature_y[10]+=1\n",
    "    if (value>300 and value <400):\n",
    "        female_feature_y[11]+=1\n",
    "    if (value>400 and value <500):\n",
    "        female_feature_y[12]+=1\n",
    "    if (value>500 and value <600):\n",
    "        female_feature_y[13]+=1\n",
    "    if (value>600 and value <700):\n",
    "        female_feature_y[14]+=1\n",
    "    if (value>700 and value <800):\n",
    "        female_feature_y[15]+=1\n",
    "print(female_feature_y[0:15])\n",
    "# total = 0\n",
    "# for ele in range(0, len(female_feature_y)):\n",
    "#     total = total + female_feature_y[ele]\n",
    "# print(total)"
   ]
  },
  {
   "cell_type": "code",
   "execution_count": 12,
   "metadata": {},
   "outputs": [
    {
     "data": {
      "image/png": "[encoded data removed]",
      "text/plain": [
       "<Figure size 432x288 with 1 Axes>"
      ]
     },
     "metadata": {
      "needs_background": "light"
     },
     "output_type": "display_data"
    }
   ],
   "source": [
    "plt.rcParams[\"font.sans-serif\"] = [\"SimHei\"]\n",
    "plt.rcParams[\"axes.unicode_minus\"] = False\n",
    "for i in range(len(x_labels)):\n",
    "\tplt.bar(x_labels[i], male_feature_y[i])"
   ]
  },
  {
   "cell_type": "code",
   "execution_count": 13,
   "metadata": {},
   "outputs": [
    {
     "data": {
      "image/png": "[encoded data removed]",
      "text/plain": [
       "<Figure size 432x288 with 1 Axes>"
      ]
     },
     "metadata": {
      "needs_background": "light"
     },
     "output_type": "display_data"
    }
   ],
   "source": [
    "for i in range(len(x_labels)):\n",
    "\tplt.bar(x_labels[i], female_feature_y[i])"
   ]
  },
  {
   "cell_type": "code",
   "execution_count": 14,
   "metadata": {},
   "outputs": [
    {
     "data": {
      "text/plain": [
       "Text(0, 0.5, '数量')"
      ]
     },
     "execution_count": 14,
     "metadata": {},
     "output_type": "execute_result"
    },
    {
     "data": {
      "image/png": "[encoded data removed]",
      "text/plain": [
       "<Figure size 432x288 with 1 Axes>"
      ]
     },
     "metadata": {
      "needs_background": "light"
     },
     "output_type": "display_data"
    }
   ],
   "source": [
    "# 有a/b/c三种类型的数据，n设置为3\n",
    "total_width, n = 0.8, 2\n",
    "# 每种类型的柱状图宽度\n",
    "width = total_width / n\n",
    "\n",
    "x = np.arange(16)\n",
    "# 重新设置x轴的坐标\n",
    "x = x - (total_width - width) / 2\n",
    "# print(x)\n",
    "plt.xticks(x, x_labels)\n",
    "\n",
    "# 画柱状图\n",
    "plt.bar(x, male_feature_y, width=width, label=\"male\")\n",
    "plt.bar(x + width, female_feature_y, width=width, label=\"female\")# 设置图片名称\n",
    "plt.title(\"分布情况\")\n",
    "# 设置x轴标签名\n",
    "plt.xlabel(\"特征值\")\n",
    "# 设置y轴标签名\n",
    "plt.ylabel(\"数量\")"
   ]
  },
  {
   "cell_type": "code",
   "execution_count": null,
   "metadata": {},
   "outputs": [],
   "source": []
  }
 ],
 "metadata": {
  "kernelspec": {
   "display_name": "Python 3.7.13 ('for2060')",
   "language": "python",
   "name": "python3"
  },
  "language_info": {
   "codemirror_mode": {
    "name": "ipython",
    "version": 3
   },
   "file_extension": ".py",
   "mimetype": "text/x-python",
   "name": "python",
   "nbconvert_exporter": "python",
   "pygments_lexer": "ipython3",
   "version": "3.7.13"
  },
  "orig_nbformat": 4,
  "vscode": {
   "interpreter": {
    "hash": "9eb80d58708016dff1abaa38160433fcc32a82dd47e68853c4488d0f5fabc508"
   }
  }
 },
 "nbformat": 4,
 "nbformat_minor": 2
}
