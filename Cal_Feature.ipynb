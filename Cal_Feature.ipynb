{
 "cells": [
  {
   "cell_type": "markdown",
   "metadata": {},
   "source": [
    "#### 计算特征值"
   ]
  },
  {
   "cell_type": "code",
   "execution_count": 26,
   "metadata": {},
   "outputs": [],
   "source": [
    "import os\n",
    "import numpy as np\n",
    "import numpy.matlib\n",
    "\n",
    "# 获取原始数据路径\n",
    "path_train_input = \"eigenfaces\\\\faceR\"\n",
    "# 读取训练数据集\n",
    "data_train_input = np.loadtxt(path_train_input)\n",
    "data_train_label_raw = np.load('./FaceDataset/Label/train.npy')"
   ]
  },
  {
   "cell_type": "code",
   "execution_count": 27,
   "metadata": {},
   "outputs": [
    {
     "name": "stdout",
     "output_type": "stream",
     "text": [
      "输入形状：  (1997, 100)\n",
      "标签形状：  (1997, 2)\n"
     ]
    }
   ],
   "source": [
    "# 打印数据集的形状\n",
    "print(\"输入形状： \" , data_train_input.shape)\n",
    "print(\"标签形状： \" , data_train_label_raw.shape)"
   ]
  },
  {
   "cell_type": "code",
   "execution_count": 28,
   "metadata": {},
   "outputs": [],
   "source": [
    "# 将男性标签替换为1，女性标签替换为0\n",
    "a = np.char.replace(data_train_label_raw,'female','0')\n",
    "b = np.char.replace(a,'male','1')\n",
    "# 将数组从字符串类型转换为int类型\n",
    "data_train_label = b.astype(int)"
   ]
  },
  {
   "cell_type": "code",
   "execution_count": 29,
   "metadata": {},
   "outputs": [
    {
     "name": "stdout",
     "output_type": "stream",
     "text": [
      "[[3033    1]\n",
      " [3034    0]]\n",
      "(1997, 2)\n"
     ]
    }
   ],
   "source": [
    "# 打印进行查看\n",
    "print(data_train_label[1807:1809])\n",
    "print(data_train_label.shape)"
   ]
  },
  {
   "cell_type": "code",
   "execution_count": 30,
   "metadata": {},
   "outputs": [
    {
     "data": {
      "text/plain": [
       "(1997, 101)"
      ]
     },
     "execution_count": 30,
     "metadata": {},
     "output_type": "execute_result"
    }
   ],
   "source": [
    "data_only_lael = data_train_label[:,[1]]\n",
    "train_data = np.concatenate((data_train_input,data_only_lael),axis=1)\n",
    "train_data.shape"
   ]
  },
  {
   "cell_type": "code",
   "execution_count": 31,
   "metadata": {},
   "outputs": [],
   "source": [
    "# 分离出男性和女性的数据集\n",
    "train_data_male = np.zeros((0,101),dtype = float)\n",
    "train_data_famale = np.zeros((0,101),dtype = float)\n",
    "j = 0\n",
    "for line in train_data:\n",
    "    if line[-1] == 1:\n",
    "        train_data_male = np.row_stack((train_data_male,train_data[j,0:101]))\n",
    "    j+=1\n",
    "j = 0\n",
    "for line in train_data:\n",
    "    if line[-1] == 0:\n",
    "        train_data_famale = np.row_stack((train_data_famale,train_data[j,0:101]))\n",
    "    j+=1"
   ]
  },
  {
   "cell_type": "code",
   "execution_count": 32,
   "metadata": {},
   "outputs": [
    {
     "name": "stdout",
     "output_type": "stream",
     "text": [
      "(1150, 101)\n",
      "(847, 101)\n"
     ]
    }
   ],
   "source": [
    "print(train_data_male.shape)\n",
    "print(train_data_famale.shape)"
   ]
  },
  {
   "cell_type": "code",
   "execution_count": 33,
   "metadata": {},
   "outputs": [],
   "source": [
    "# 提取出只有特征的矩阵\n",
    "train_pure_data_male = train_data_male[:,1:100]\n",
    "train_pure_data_female = train_data_famale[:,1:100]"
   ]
  },
  {
   "cell_type": "code",
   "execution_count": 34,
   "metadata": {},
   "outputs": [
    {
     "name": "stdout",
     "output_type": "stream",
     "text": [
      "male : (1150, 99)\n",
      "female :  (847, 99)\n"
     ]
    }
   ],
   "source": [
    "print(\"male :\", train_pure_data_male.shape)\n",
    "print(\"female : \", train_pure_data_female.shape)"
   ]
  },
  {
   "cell_type": "code",
   "execution_count": 35,
   "metadata": {},
   "outputs": [],
   "source": [
    "# 求出分类协方差矩阵\n",
    "male_covariance_matrix = np.cov(train_pure_data_male, rowvar = False)\n",
    "female_covariance_matrix = np.cov(train_pure_data_female, rowvar = False)"
   ]
  },
  {
   "cell_type": "code",
   "execution_count": 36,
   "metadata": {},
   "outputs": [
    {
     "name": "stdout",
     "output_type": "stream",
     "text": [
      "male covariance matrix (99, 99)\n",
      "female covariance matrix (99, 99)\n"
     ]
    }
   ],
   "source": [
    "print(\"male covariance matrix\" , male_covariance_matrix.shape)\n",
    "print(\"female covariance matrix\" , female_covariance_matrix.shape)"
   ]
  },
  {
   "cell_type": "code",
   "execution_count": 37,
   "metadata": {},
   "outputs": [],
   "source": [
    "# 求出分类均值\n",
    "male_average = np.average(train_pure_data_male,axis=0)\n",
    "female_average = np.average(train_pure_data_female,axis=0)"
   ]
  },
  {
   "cell_type": "code",
   "execution_count": 38,
   "metadata": {},
   "outputs": [
    {
     "name": "stdout",
     "output_type": "stream",
     "text": [
      "male average [-336.10948419   18.52917969   -3.58500327    7.97865288   24.60646817\n",
      "  116.50888639 -105.94273379  -88.68269395 -101.33368304   -5.01006541]\n",
      "female average [-142.00910638   92.89319962  164.41899622 -153.83048152  104.30999895\n",
      "  -22.57592274  231.08783111  221.72767551 -116.7370422    84.02787477]\n",
      "male average (99,)\n",
      "female average (99,)\n"
     ]
    }
   ],
   "source": [
    "print(\"male average\" , male_average[0:10])\n",
    "print(\"female average\" , female_average[0:10])\n",
    "\n",
    "print(\"male average\" , male_average.shape)\n",
    "print(\"female average\" , female_average.shape)"
   ]
  },
  {
   "cell_type": "code",
   "execution_count": 39,
   "metadata": {},
   "outputs": [
    {
     "data": {
      "text/plain": [
       "array([-253.78448669,   50.06965284,   67.67157538,  -60.65045921,\n",
       "         58.41162119,   57.51798337,   37.00413075,   42.97358193])"
      ]
     },
     "execution_count": 39,
     "metadata": {},
     "output_type": "execute_result"
    }
   ],
   "source": [
    "# 求出混合均值\n",
    "# train_pure_data_1 = np.concatenate((train_pure_data_male,train_pure_data_female),axis=0)\n",
    "# u_average_1 = np.average(train_pure_data_1,axis=0)\n",
    "train_pure_data = train_data[:,1:100]\n",
    "u_average = np.average(train_pure_data,axis=0)\n",
    "u_average[0:8]"
   ]
  },
  {
   "cell_type": "code",
   "execution_count": 40,
   "metadata": {},
   "outputs": [
    {
     "data": {
      "text/plain": [
       "(99, 99)"
      ]
     },
     "execution_count": 40,
     "metadata": {},
     "output_type": "execute_result"
    }
   ],
   "source": [
    "# 计算类间离散度矩阵\n",
    "diff_u1 = male_average - u_average\n",
    "diff_u2 = female_average - u_average\n",
    "diff_u1 = diff_u1.reshape(99,1)\n",
    "diff_u2 = diff_u2.reshape(99,1)\n",
    "u1_matrix = np.matmul(diff_u1,diff_u1.T)\n",
    "u2_matrix = np.matmul(diff_u2,diff_u2.T)\n",
    "S_b = u1_matrix + u2_matrix\n",
    "S_b.shape"
   ]
  },
  {
   "cell_type": "code",
   "execution_count": 41,
   "metadata": {},
   "outputs": [
    {
     "name": "stdout",
     "output_type": "stream",
     "text": [
      "[-31.54047315] 18.529179689565126 50.06965283875813\n",
      "[-31.54047315] 92.89319961747346 50.06965283875813\n"
     ]
    }
   ],
   "source": [
    "print(diff_u1[1] , male_average[1] , u_average[1])\n",
    "print(diff_u1[1] , female_average[1] , u_average[1])"
   ]
  },
  {
   "cell_type": "code",
   "execution_count": 42,
   "metadata": {},
   "outputs": [
    {
     "data": {
      "text/plain": [
       "(99, 99)"
      ]
     },
     "execution_count": 42,
     "metadata": {},
     "output_type": "execute_result"
    }
   ],
   "source": [
    "# 计算类内离散度矩阵\n",
    "S_w = 0.5 * (male_covariance_matrix + female_covariance_matrix)\n",
    "S_w_inv = np.linalg.inv(S_w)\n",
    "S_w_inv.shape"
   ]
  },
  {
   "cell_type": "code",
   "execution_count": 43,
   "metadata": {},
   "outputs": [
    {
     "name": "stdout",
     "output_type": "stream",
     "text": [
      "[[ 9.72904913e-03  3.72740750e-03  8.42099940e-03 ...  4.91414202e-04\n",
      "   5.66444930e-05  3.54951535e-04]\n",
      " [ 2.02943506e-02  7.77520122e-03  1.75658188e-02 ...  1.02506751e-03\n",
      "   1.18157817e-04  7.40412635e-04]\n",
      " [ 1.76988957e-02  6.78082673e-03  1.53193172e-02 ...  8.93971094e-04\n",
      "   1.03046552e-04  6.45720882e-04]\n",
      " ...\n",
      " [ 2.08068342e-01  7.97154468e-02  1.80094001e-01 ...  1.05095305e-02\n",
      "   1.21141600e-03  7.59109924e-03]\n",
      " [-8.51912871e-02 -3.26386102e-02 -7.37375018e-02 ... -4.30301130e-03\n",
      "  -4.96000915e-04 -3.10809183e-03]\n",
      " [-7.08862002e-02 -2.71580244e-02 -6.13557030e-02 ... -3.58046146e-03\n",
      "  -4.12713803e-04 -2.58618959e-03]]\n"
     ]
    }
   ],
   "source": [
    "S_b_S_w_inv = np.matmul(S_w_inv,S_b)\n",
    "print(S_b_S_w_inv)"
   ]
  },
  {
   "cell_type": "code",
   "execution_count": 44,
   "metadata": {},
   "outputs": [
    {
     "data": {
      "text/plain": [
       "1"
      ]
     },
     "execution_count": 44,
     "metadata": {},
     "output_type": "execute_result"
    }
   ],
   "source": [
    "rank = np.linalg.matrix_rank(S_b_S_w_inv)\n",
    "rank"
   ]
  },
  {
   "cell_type": "code",
   "execution_count": 45,
   "metadata": {},
   "outputs": [
    {
     "name": "stdout",
     "output_type": "stream",
     "text": [
      "(1.5812748593283055+0j)\n"
     ]
    }
   ],
   "source": [
    "# 计算特征向量和特征值\n",
    "eigenvalue, featurevector = np.linalg.eig(S_b_S_w_inv)\n",
    "print(eigenvalue[1])"
   ]
  },
  {
   "cell_type": "code",
   "execution_count": 46,
   "metadata": {},
   "outputs": [],
   "source": [
    "W = featurevector[:,1]\n",
    "W_Mat = W.reshape(99,1)"
   ]
  },
  {
   "cell_type": "code",
   "execution_count": 47,
   "metadata": {},
   "outputs": [
    {
     "name": "stdout",
     "output_type": "stream",
     "text": [
      "(1997, 1)\n",
      "[[-146.76836086+0.j]\n",
      " [ -90.97183676+0.j]\n",
      " [   9.18925873+0.j]\n",
      " ...\n",
      " [  87.30373906+0.j]\n",
      " [-311.67354422+0.j]\n",
      " [-357.58405128+0.j]]\n"
     ]
    }
   ],
   "source": [
    "# 获取特征矩阵\n",
    "train_feature_data = np.matmul(train_pure_data,W_Mat)\n",
    "train_feature_data.shape\n",
    "print(train_feature_data.shape)\n",
    "print(train_feature_data)"
   ]
  },
  {
   "cell_type": "code",
   "execution_count": 48,
   "metadata": {},
   "outputs": [
    {
     "name": "stdout",
     "output_type": "stream",
     "text": [
      "[[ 1.25500000e+03+0.j  1.00000000e+00+0.j  1.17655862e+01+0.j]\n",
      " [ 1.25600000e+03+0.j  0.00000000e+00+0.j -5.81542067e+01+0.j]\n",
      " [ 1.25700000e+03+0.j  0.00000000e+00+0.j -2.65783970e+02+0.j]\n",
      " [ 1.25800000e+03+0.j  1.00000000e+00+0.j -9.73387468e+01+0.j]\n",
      " [ 1.25900000e+03+0.j  1.00000000e+00+0.j -2.83858212e+02+0.j]\n",
      " [ 1.26000000e+03+0.j  1.00000000e+00+0.j -3.66321993e+02+0.j]\n",
      " [ 1.26100000e+03+0.j  1.00000000e+00+0.j -4.73877673e+01+0.j]\n",
      " [ 1.26200000e+03+0.j  0.00000000e+00+0.j -2.96641747e+02+0.j]\n",
      " [ 1.26300000e+03+0.j  1.00000000e+00+0.j  2.42587236e+01+0.j]\n",
      " [ 1.26400000e+03+0.j  1.00000000e+00+0.j -7.59087415e+01+0.j]\n",
      " [ 1.26500000e+03+0.j  1.00000000e+00+0.j  3.50153502e+01+0.j]\n",
      " [ 1.26600000e+03+0.j  1.00000000e+00+0.j  1.23100737e+02+0.j]\n",
      " [ 1.26700000e+03+0.j  1.00000000e+00+0.j -2.04186295e+02+0.j]\n",
      " [ 1.26800000e+03+0.j  1.00000000e+00+0.j -8.89846080e+01+0.j]\n",
      " [ 1.26900000e+03+0.j  1.00000000e+00+0.j  1.55351055e+02+0.j]\n",
      " [ 1.27000000e+03+0.j  1.00000000e+00+0.j  2.40189454e+02+0.j]\n",
      " [ 1.27100000e+03+0.j  1.00000000e+00+0.j  1.78499185e+02+0.j]\n",
      " [ 1.27200000e+03+0.j  1.00000000e+00+0.j  4.59929802e+01+0.j]\n",
      " [ 1.27300000e+03+0.j  1.00000000e+00+0.j -5.71985683e+01+0.j]\n",
      " [ 1.27400000e+03+0.j  1.00000000e+00+0.j -3.36908756e+00+0.j]]\n"
     ]
    }
   ],
   "source": [
    "# 获得包含特征的完全数据\n",
    "dataset_feature = np.concatenate((data_train_label,train_feature_data),axis=1)\n",
    "print(dataset_feature[30:50])"
   ]
  },
  {
   "cell_type": "code",
   "execution_count": 49,
   "metadata": {},
   "outputs": [],
   "source": [
    "# 将数据保存为npy文件，方便读取\n",
    "np.save('./FaceDataset/dataset_feature', dataset_feature)\n",
    "np.save('./FaceDataset/W_Mat', W_Mat)"
   ]
  },
  {
   "cell_type": "code",
   "execution_count": 50,
   "metadata": {},
   "outputs": [
    {
     "name": "stdout",
     "output_type": "stream",
     "text": [
      "type : <class 'numpy.ndarray'>\n",
      "shape : (1997, 3)\n",
      "dataset_feature :\n",
      "[[ 1.22300000e+03+0.j  1.00000000e+00+0.j -1.46768361e+02+0.j]\n",
      " [ 1.22400000e+03+0.j  1.00000000e+00+0.j -9.09718368e+01+0.j]\n",
      " [ 1.22500000e+03+0.j  1.00000000e+00+0.j  9.18925873e+00+0.j]\n",
      " ...\n",
      " [ 3.22000000e+03+0.j  0.00000000e+00+0.j  8.73037391e+01+0.j]\n",
      " [ 3.22100000e+03+0.j  0.00000000e+00+0.j -3.11673544e+02+0.j]\n",
      " [ 3.22200000e+03+0.j  0.00000000e+00+0.j -3.57584051e+02+0.j]]\n"
     ]
    }
   ],
   "source": [
    "# 测试数据加载\n",
    "\n",
    "dataset_feature = np.load('./FaceDataset/dataset_feature.npy')\n",
    "print('type :', type(dataset_feature))\n",
    "print('shape :', dataset_feature.shape)\n",
    "print('dataset_feature :')\n",
    "print(dataset_feature)"
   ]
  },
  {
   "cell_type": "code",
   "execution_count": 52,
   "metadata": {},
   "outputs": [
    {
     "name": "stdout",
     "output_type": "stream",
     "text": [
      "type : <class 'numpy.ndarray'>\n",
      "shape : (99, 1)\n",
      "dataset_feature :\n",
      "[[-0.00801748+0.j]\n",
      " [-0.0167241 +0.j]\n",
      " [-0.01458524+0.j]\n",
      " [ 0.07449896+0.j]\n",
      " [-0.02827698+0.j]\n",
      " [ 0.0397287 +0.j]\n",
      " [-0.12408401+0.j]\n",
      " [-0.13569042+0.j]\n",
      " [ 0.00625193+0.j]\n",
      " [-0.06384975+0.j]\n",
      " [ 0.03679197+0.j]\n",
      " [-0.08798134+0.j]\n",
      " [-0.08937527+0.j]\n",
      " [-0.06772857+0.j]\n",
      " [-0.00736714+0.j]\n",
      " [ 0.02579685+0.j]\n",
      " [-0.05971839+0.j]\n",
      " [-0.05401217+0.j]\n",
      " [-0.07067269+0.j]\n",
      " [ 0.03981524+0.j]\n",
      " [-0.0765536 +0.j]\n",
      " [-0.0609326 +0.j]\n",
      " [-0.01096937+0.j]\n",
      " [-0.01296459+0.j]\n",
      " [ 0.03372909+0.j]\n",
      " [ 0.00547426+0.j]\n",
      " [ 0.00367972+0.j]\n",
      " [ 0.09469401+0.j]\n",
      " [-0.04769768+0.j]\n",
      " [-0.14325161+0.j]\n",
      " [-0.00208518+0.j]\n",
      " [ 0.02685563+0.j]\n",
      " [-0.09745485+0.j]\n",
      " [-0.04444397+0.j]\n",
      " [ 0.02191295+0.j]\n",
      " [ 0.07079508+0.j]\n",
      " [ 0.12959865+0.j]\n",
      " [ 0.03812716+0.j]\n",
      " [ 0.06605919+0.j]\n",
      " [ 0.08101063+0.j]\n",
      " [ 0.07174385+0.j]\n",
      " [-0.17091572+0.j]\n",
      " [-0.04548555+0.j]\n",
      " [ 0.05539888+0.j]\n",
      " [ 0.0233513 +0.j]\n",
      " [ 0.03372269+0.j]\n",
      " [-0.03562281+0.j]\n",
      " [-0.08657293+0.j]\n",
      " [ 0.08436631+0.j]\n",
      " [ 0.05634716+0.j]\n",
      " [ 0.22211905+0.j]\n",
      " [-0.24801726+0.j]\n",
      " [-0.00665169+0.j]\n",
      " [ 0.05026075+0.j]\n",
      " [-0.04846377+0.j]\n",
      " [ 0.07490735+0.j]\n",
      " [ 0.16569686+0.j]\n",
      " [ 0.02429151+0.j]\n",
      " [-0.04056476+0.j]\n",
      " [-0.00476277+0.j]\n",
      " [-0.02003675+0.j]\n",
      " [-0.02199622+0.j]\n",
      " [ 0.24550882+0.j]\n",
      " [ 0.06306844+0.j]\n",
      " [ 0.03289507+0.j]\n",
      " [ 0.02498863+0.j]\n",
      " [-0.00845708+0.j]\n",
      " [ 0.06961942+0.j]\n",
      " [ 0.11763992+0.j]\n",
      " [-0.00725639+0.j]\n",
      " [-0.0637148 +0.j]\n",
      " [ 0.03595039+0.j]\n",
      " [ 0.04615816+0.j]\n",
      " [ 0.06683303+0.j]\n",
      " [-0.01154973+0.j]\n",
      " [ 0.10776987+0.j]\n",
      " [ 0.07892885+0.j]\n",
      " [-0.20542178+0.j]\n",
      " [ 0.05537063+0.j]\n",
      " [-0.01049435+0.j]\n",
      " [-0.31158723+0.j]\n",
      " [-0.19318833+0.j]\n",
      " [ 0.16456959+0.j]\n",
      " [-0.05899533+0.j]\n",
      " [-0.08979383+0.j]\n",
      " [-0.07810475+0.j]\n",
      " [ 0.04107311+0.j]\n",
      " [ 0.04779635+0.j]\n",
      " [-0.1515671 +0.j]\n",
      " [ 0.01105921+0.j]\n",
      " [-0.06244551+0.j]\n",
      " [ 0.3669243 +0.j]\n",
      " [ 0.14185338+0.j]\n",
      " [ 0.09925441+0.j]\n",
      " [-0.10597653+0.j]\n",
      " [ 0.1802789 +0.j]\n",
      " [-0.17146422+0.j]\n",
      " [ 0.07020413+0.j]\n",
      " [ 0.05841565+0.j]]\n"
     ]
    }
   ],
   "source": [
    "# 测试数据加载\n",
    "\n",
    "W_Mat = np.load('./FaceDataset/W_Mat.npy')\n",
    "print('type :', type(W_Mat))\n",
    "print('shape :', W_Mat.shape)\n",
    "print('dataset_feature :')\n",
    "print(W_Mat)"
   ]
  },
  {
   "cell_type": "code",
   "execution_count": null,
   "metadata": {},
   "outputs": [],
   "source": []
  }
 ],
 "metadata": {
  "kernelspec": {
   "display_name": "Python 3.7.13 ('for2060')",
   "language": "python",
   "name": "python3"
  },
  "language_info": {
   "codemirror_mode": {
    "name": "ipython",
    "version": 3
   },
   "file_extension": ".py",
   "mimetype": "text/x-python",
   "name": "python",
   "nbconvert_exporter": "python",
   "pygments_lexer": "ipython3",
   "version": "3.7.13"
  },
  "orig_nbformat": 4,
  "vscode": {
   "interpreter": {
    "hash": "9eb80d58708016dff1abaa38160433fcc32a82dd47e68853c4488d0f5fabc508"
   }
  }
 },
 "nbformat": 4,
 "nbformat_minor": 2
}
