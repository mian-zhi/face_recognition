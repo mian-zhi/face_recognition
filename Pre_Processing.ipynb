{
 "cells": [
  {
   "cell_type": "markdown",
   "metadata": {},
   "source": [
    "#### 数据集的预处理"
   ]
  },
  {
   "cell_type": "code",
   "execution_count": 1,
   "metadata": {},
   "outputs": [],
   "source": [
    "import os\n",
    "import numpy as np"
   ]
  },
  {
   "cell_type": "code",
   "execution_count": 2,
   "metadata": {},
   "outputs": [],
   "source": [
    "# 导入路径\n",
    "path_train_target = \"eigenfaces\\\\faceDR\"\n",
    "path_test_target = \"eigenfaces\\\\faceDS\""
   ]
  },
  {
   "cell_type": "code",
   "execution_count": 3,
   "metadata": {},
   "outputs": [],
   "source": [
    "# 读取标签\n",
    "with open(path_train_target , encoding='utf-8') as rawdata_train_target:\n",
    "    list_train_target = [[buf.strip(')') for buf in line.strip().split(' (_')]for line in rawdata_train_target.readlines()]\n",
    "\n",
    "with open(path_test_target , encoding='utf-8') as rawdata_test_target:\n",
    "    list_test_target = [[buf.strip(')') for buf in line.strip().split(' (_')]for line in rawdata_test_target.readlines()]"
   ]
  },
  {
   "cell_type": "code",
   "execution_count": 4,
   "metadata": {},
   "outputs": [
    {
     "name": "stdout",
     "output_type": "stream",
     "text": [
      "[['1223', 'sex  male', 'age  child', 'race white', 'face smiling', \"prop '(\"]]\n",
      "[['1224', 'sex  male', 'age  child', 'race white', 'face serious', \"prop '(\"]]\n",
      "[['1225', 'sex  male', 'age  child', 'race white', 'face smiling', \"prop '(\"]]\n",
      "[['1226', 'sex  male', 'age  child', 'race white', 'face smiling', \"prop '(\"]]\n",
      "[['1227', 'sex  male', 'age  child', 'race white', 'face serious', \"prop '(\"]]\n",
      "[['1229', 'sex  male', 'age  adult', 'race white', 'face serious', \"prop '(\"]]\n",
      "[['1230', 'sex  male', 'age  child', 'race white', 'face serious', \"prop '(\"]]\n",
      "[['1231', 'sex  male', 'age  child', 'race white', 'face serious', \"prop '(\"]]\n",
      "[['1233', 'sex  male', 'age  child', 'race white', 'face serious', \"prop '(\"]]\n",
      "[['1234', 'sex  male', 'age  child', 'race white', 'face serious', \"prop '(\"]]\n",
      "sex  male\n"
     ]
    }
   ],
   "source": [
    "# 打印前10个训练集标签\n",
    "for idt in range(10):\n",
    "    print(list_train_target[idt:idt+1])\n",
    "\n",
    "print(list_train_target[1][1])"
   ]
  },
  {
   "cell_type": "code",
   "execution_count": 5,
   "metadata": {},
   "outputs": [
    {
     "name": "stdout",
     "output_type": "stream",
     "text": [
      "[['3223', 'sex  female', 'age  senior', 'race black', 'face smiling', \"prop '(hat \"]]\n",
      "[['3224', 'sex  female', 'age  adult', 'race black', 'face smiling', \"prop '(\"]]\n",
      "[['3225', 'sex  male', 'age  senior', 'race white', 'face smiling', \"prop '(\"]]\n",
      "[['3226', 'sex  male', 'age  senior', 'race white', 'face serious', \"prop '(\"]]\n",
      "[['3227', 'sex  male', 'age  senior', 'race white', 'face serious', \"prop '(\"]]\n",
      "[['3228', 'sex  male', 'age  senior', 'race white', 'face serious', \"prop '(\"]]\n",
      "[['3229', 'sex  male', 'age  senior', 'race white', 'face smiling', \"prop '(\"]]\n",
      "[['3230', 'sex  male', 'age  senior', 'race white', 'face smiling', \"prop '(\"]]\n",
      "[['3231', 'sex  male', 'age  senior', 'race white', 'face serious', \"prop '(hat \"]]\n",
      "[['3232', 'sex  male', 'age  senior', 'race white', 'face serious', \"prop '(\"]]\n"
     ]
    }
   ],
   "source": [
    "# 打印前10个测试集标签\n",
    "for idt in range(10):\n",
    "    print(list_test_target[idt:idt+1])"
   ]
  },
  {
   "cell_type": "code",
   "execution_count": 6,
   "metadata": {},
   "outputs": [],
   "source": [
    "# 将人种和ID号合并\n",
    "\n",
    "data_train = []\n",
    "data_test = []\n",
    "\n",
    "for line in list_train_target:\n",
    "    sex = line[1].strip().split(' ')[2]\n",
    "    temp = [line[0], sex]\n",
    "    data_train.append(temp)\n",
    "\n",
    "for line in list_test_target:\n",
    "    sex = line[1].strip().split(' ')[2]\n",
    "    temp = [line[0], sex]\n",
    "    data_test.append(temp)"
   ]
  },
  {
   "cell_type": "code",
   "execution_count": 7,
   "metadata": {},
   "outputs": [
    {
     "name": "stdout",
     "output_type": "stream",
     "text": [
      "[['1223', 'male'], ['1224', 'male'], ['1225', 'male'], ['1226', 'male'], ['1227', 'male'], ['1229', 'male'], ['1230', 'male'], ['1231', 'male'], ['1233', 'male'], ['1234', 'male']]\n",
      "[['3223', 'female'], ['3224', 'female'], ['3225', 'male'], ['3226', 'male'], ['3227', 'male'], ['3228', 'male'], ['3229', 'male'], ['3230', 'male'], ['3231', 'male'], ['3232', 'male']]\n"
     ]
    }
   ],
   "source": [
    "print(data_train[:10])\n",
    "print(data_test[:10])"
   ]
  },
  {
   "cell_type": "code",
   "execution_count": 8,
   "metadata": {},
   "outputs": [],
   "source": [
    "# 将数据保存为npy文件，方便读取\n",
    "np.save('./FaceDataset/Label/train.npy', data_train)\n",
    "np.save('./FaceDataset/Label/test.npy', data_test)"
   ]
  },
  {
   "cell_type": "code",
   "execution_count": 9,
   "metadata": {},
   "outputs": [
    {
     "name": "stdout",
     "output_type": "stream",
     "text": [
      "type : <class 'numpy.ndarray'>\n",
      "shape : (1997, 2)\n",
      "train_label :\n",
      "[['1223' 'male']\n",
      " ['1224' 'male']\n",
      " ['1225' 'male']\n",
      " ...\n",
      " ['3220' 'female']\n",
      " ['3221' 'female']\n",
      " ['3222' 'female']]\n",
      "type : <class 'numpy.ndarray'>\n",
      "shape : (1996, 2)\n",
      "test_label :\n",
      "[['3223' 'female']\n",
      " ['3224' 'female']\n",
      " ['3225' 'male']\n",
      " ...\n",
      " ['5220' 'female']\n",
      " ['5221' 'female']\n",
      " ['5222' 'female']]\n"
     ]
    }
   ],
   "source": [
    "# 测试加载数据集，并打印\n",
    "train_label = np.load('./FaceDataset/Label/train.npy')\n",
    "test_label = np.load('./FaceDataset/Label/test.npy')\n",
    "\n",
    "print('type :', type(train_label))\n",
    "print('shape :', train_label.shape)\n",
    "print('train_label :')\n",
    "print(train_label)\n",
    "\n",
    "print('type :', type(test_label))\n",
    "print('shape :', test_label.shape)\n",
    "print('test_label :')\n",
    "print(test_label)"
   ]
  },
  {
   "cell_type": "code",
   "execution_count": 10,
   "metadata": {},
   "outputs": [
    {
     "name": "stdout",
     "output_type": "stream",
     "text": [
      "{'male': 1150, 'female': 847}\n",
      "{'female': 719, 'male': 1277}\n"
     ]
    }
   ],
   "source": [
    "#  查看每种性别的数量\n",
    "\n",
    "facedr_cnt = {}\n",
    "faceds_cnt = {}\n",
    "\n",
    "for value in data_train:\n",
    "    facedr_cnt[value[1]] = facedr_cnt.get(value[1], 0) + 1\n",
    "        \n",
    "for value in data_test:\n",
    "     faceds_cnt[value[1]] = faceds_cnt.get(value[1], 0) + 1\n",
    "        \n",
    "print(facedr_cnt)\n",
    "print(faceds_cnt)"
   ]
  }
 ],
 "metadata": {
  "kernelspec": {
   "display_name": "Python 3.7.13 ('for2060')",
   "language": "python",
   "name": "python3"
  },
  "language_info": {
   "codemirror_mode": {
    "name": "ipython",
    "version": 3
   },
   "file_extension": ".py",
   "mimetype": "text/x-python",
   "name": "python",
   "nbconvert_exporter": "python",
   "pygments_lexer": "ipython3",
   "version": "3.7.13"
  },
  "orig_nbformat": 4,
  "vscode": {
   "interpreter": {
    "hash": "9eb80d58708016dff1abaa38160433fcc32a82dd47e68853c4488d0f5fabc508"
   }
  }
 },
 "nbformat": 4,
 "nbformat_minor": 2
}
