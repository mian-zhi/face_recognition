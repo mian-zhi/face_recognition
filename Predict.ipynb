{
 "cells": [
  {
   "cell_type": "code",
   "execution_count": 2,
   "metadata": {},
   "outputs": [],
   "source": [
    "import numpy as np"
   ]
  },
  {
   "cell_type": "code",
   "execution_count": 3,
   "metadata": {},
   "outputs": [
    {
     "name": "stdout",
     "output_type": "stream",
     "text": [
      "type : <class 'numpy.ndarray'>\n",
      "shape : (1997, 3)\n",
      "dataset_feature :\n",
      "[[ 1.22300000e+03+0.j  1.00000000e+00+0.j -1.46768361e+02+0.j]\n",
      " [ 1.22400000e+03+0.j  1.00000000e+00+0.j -9.09718368e+01+0.j]\n",
      " [ 1.22500000e+03+0.j  1.00000000e+00+0.j  9.18925873e+00+0.j]\n",
      " ...\n",
      " [ 3.22000000e+03+0.j  0.00000000e+00+0.j  8.73037391e+01+0.j]\n",
      " [ 3.22100000e+03+0.j  0.00000000e+00+0.j -3.11673544e+02+0.j]\n",
      " [ 3.22200000e+03+0.j  0.00000000e+00+0.j -3.57584051e+02+0.j]]\n"
     ]
    }
   ],
   "source": [
    "# 测试加载数据集，并打印\n",
    "dataset_feature = np.load('./FaceDataset/dataset_feature.npy')\n",
    "print('type :', type(dataset_feature))\n",
    "print('shape :', dataset_feature.shape)\n",
    "print('dataset_feature :')\n",
    "print(dataset_feature)"
   ]
  },
  {
   "cell_type": "code",
   "execution_count": 4,
   "metadata": {},
   "outputs": [
    {
     "name": "stdout",
     "output_type": "stream",
     "text": [
      "[[ 1.22300000e+03+0.j  1.00000000e+00+0.j -1.46768361e+02+0.j]\n",
      " [ 1.22400000e+03+0.j  1.00000000e+00+0.j -9.09718368e+01+0.j]\n",
      " [ 1.22500000e+03+0.j  1.00000000e+00+0.j  9.18925873e+00+0.j]]\n",
      "[[1252.        +0.j    0.        +0.j -163.44168691+0.j]\n",
      " [1256.        +0.j    0.        +0.j  -58.15420673+0.j]\n",
      " [1257.        +0.j    0.        +0.j -265.78397024+0.j]]\n"
     ]
    }
   ],
   "source": [
    "# 分离出男性和女性的特征值向量进行分析\n",
    "train_feature_male = np.zeros((0,3),dtype = float)\n",
    "train_feature_female = np.zeros((0,3),dtype = float)\n",
    "j = 0\n",
    "for line in dataset_feature:\n",
    "    if line[1] == 1:\n",
    "        train_feature_male = np.row_stack((train_feature_male,dataset_feature[j,0:3]))\n",
    "    j+=1\n",
    "j = 0\n",
    "for line in dataset_feature:\n",
    "    if line[1] == 0:\n",
    "        train_feature_female = np.row_stack((train_feature_female,dataset_feature[j,0:3]))\n",
    "    j+=1\n",
    "print(train_feature_male[0:3])\n",
    "print(train_feature_female[0:3])"
   ]
  },
  {
   "cell_type": "code",
   "execution_count": 5,
   "metadata": {},
   "outputs": [
    {
     "name": "stdout",
     "output_type": "stream",
     "text": [
      "1\n"
     ]
    }
   ],
   "source": [
    "# 一些函数\n",
    "def Cal_distance(x1,x2):\n",
    "    return (x1-x2)*(x1-x2)\n",
    "\n",
    "def predict(x,C0,C1):\n",
    "    if Cal_distance(x,C0)<Cal_distance(x,C1):\n",
    "        return 0\n",
    "    else:\n",
    "        return 1\n",
    "\n",
    "print(predict(3,1,2))"
   ]
  },
  {
   "cell_type": "code",
   "execution_count": 6,
   "metadata": {},
   "outputs": [
    {
     "name": "stdout",
     "output_type": "stream",
     "text": [
      "(76.31677381536886+0j) (-176.61375408477844+0j)\n"
     ]
    }
   ],
   "source": [
    "# 获得中心点\n",
    "\n",
    "# 以均值作为中心点\n",
    "feature_mean_male = np.mean(train_feature_male[:,2])\n",
    "feature_mean_female = np.mean(train_feature_female[:,2])\n",
    "print(feature_mean_male,feature_mean_female)"
   ]
  },
  {
   "cell_type": "code",
   "execution_count": 7,
   "metadata": {},
   "outputs": [
    {
     "name": "stdout",
     "output_type": "stream",
     "text": [
      "(1997,)\n",
      "[0. 0. 1. 0. 0. 0. 1. 1. 1. 1.]\n",
      "[1.+0.j 1.+0.j 1.+0.j 1.+0.j 1.+0.j 1.+0.j 1.+0.j 1.+0.j 1.+0.j 1.+0.j]\n"
     ]
    }
   ],
   "source": [
    "# 对训练集进行预测\n",
    "predict_train = np.zeros(1997)\n",
    "print(predict_train.shape)\n",
    "j = 0\n",
    "for line in dataset_feature:\n",
    "    predict_train[j] = predict(line[2],feature_mean_female,feature_mean_male)\n",
    "    j += 1\n",
    "print(predict_train[0:10])\n",
    "print(dataset_feature[0:10,1])\n"
   ]
  },
  {
   "cell_type": "code",
   "execution_count": 8,
   "metadata": {},
   "outputs": [
    {
     "data": {
      "text/plain": [
       "0.8187280921382073"
      ]
     },
     "execution_count": 8,
     "metadata": {},
     "output_type": "execute_result"
    }
   ],
   "source": [
    "# 验证准确率\n",
    "cnt = 0\n",
    "for i in range(0,1997):\n",
    "    if (predict_train[i] == dataset_feature[i,1]):\n",
    "        cnt+=1\n",
    "acc = cnt/1997\n",
    "acc"
   ]
  },
  {
   "cell_type": "code",
   "execution_count": 14,
   "metadata": {},
   "outputs": [],
   "source": [
    "mean = np.array([feature_mean_female,feature_mean_male])\n",
    "np.save('./FaceDataset/mean.npy', mean)"
   ]
  },
  {
   "cell_type": "code",
   "execution_count": null,
   "metadata": {},
   "outputs": [],
   "source": []
  }
 ],
 "metadata": {
  "kernelspec": {
   "display_name": "Python 3.7.13 ('for2060')",
   "language": "python",
   "name": "python3"
  },
  "language_info": {
   "codemirror_mode": {
    "name": "ipython",
    "version": 3
   },
   "file_extension": ".py",
   "mimetype": "text/x-python",
   "name": "python",
   "nbconvert_exporter": "python",
   "pygments_lexer": "ipython3",
   "version": "3.7.13"
  },
  "orig_nbformat": 4,
  "vscode": {
   "interpreter": {
    "hash": "9eb80d58708016dff1abaa38160433fcc32a82dd47e68853c4488d0f5fabc508"
   }
  }
 },
 "nbformat": 4,
 "nbformat_minor": 2
}
