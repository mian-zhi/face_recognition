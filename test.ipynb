{
 "cells": [
  {
   "cell_type": "code",
   "execution_count": 56,
   "metadata": {},
   "outputs": [],
   "source": [
    "import os\n",
    "import numpy as np\n",
    "import numpy.matlib\n",
    "\n",
    "# 获取原始数据路径\n",
    "path_test_input = \"eigenfaces\\\\faceS\"\n",
    "# 读取训练数据集\n",
    "data_test_input = np.loadtxt(path_test_input)\n",
    "data_test_label_raw = np.load('./FaceDataset/Label/test.npy')\n"
   ]
  },
  {
   "cell_type": "code",
   "execution_count": 57,
   "metadata": {},
   "outputs": [
    {
     "name": "stdout",
     "output_type": "stream",
     "text": [
      "输入形状：  (1996, 100)\n",
      "标签形状：  (1996, 2)\n"
     ]
    }
   ],
   "source": [
    "# 打印数据集的形状\n",
    "print(\"输入形状： \" , data_test_input.shape)\n",
    "print(\"标签形状： \" , data_test_label_raw.shape)"
   ]
  },
  {
   "cell_type": "code",
   "execution_count": 58,
   "metadata": {},
   "outputs": [
    {
     "name": "stdout",
     "output_type": "stream",
     "text": [
      "[[5034    1]\n",
      " [5035    1]]\n",
      "(1996, 2)\n"
     ]
    }
   ],
   "source": [
    "# 将男性标签替换为1，女性标签替换为0\n",
    "a = np.char.replace(data_test_label_raw,'female','0')\n",
    "b = np.char.replace(a,'male','1')\n",
    "# 将数组从字符串类型转换为int类型\n",
    "data_test_label = b.astype(int)\n",
    "# 打印进行查看\n",
    "print(data_test_label[1807:1809])\n",
    "print(data_test_label.shape)"
   ]
  },
  {
   "cell_type": "code",
   "execution_count": 59,
   "metadata": {},
   "outputs": [
    {
     "data": {
      "text/plain": [
       "(1996, 101)"
      ]
     },
     "execution_count": 59,
     "metadata": {},
     "output_type": "execute_result"
    }
   ],
   "source": [
    "data_only_lael = data_test_label[:,[1]]\n",
    "test_data = np.concatenate((data_test_input,data_only_lael),axis=1)\n",
    "test_data.shape"
   ]
  },
  {
   "cell_type": "code",
   "execution_count": 60,
   "metadata": {},
   "outputs": [
    {
     "data": {
      "text/plain": [
       "(1996, 99)"
      ]
     },
     "execution_count": 60,
     "metadata": {},
     "output_type": "execute_result"
    }
   ],
   "source": [
    "test_pure_data = test_data[:,1:100]\n",
    "test_pure_data.shape"
   ]
  },
  {
   "cell_type": "code",
   "execution_count": 61,
   "metadata": {},
   "outputs": [
    {
     "name": "stdout",
     "output_type": "stream",
     "text": [
      "shape : (99, 1)\n"
     ]
    }
   ],
   "source": [
    "W_Mat = np.load('./FaceDataset/W_Mat.npy')\n",
    "print('shape :', W_Mat.shape)"
   ]
  },
  {
   "cell_type": "code",
   "execution_count": 62,
   "metadata": {},
   "outputs": [
    {
     "name": "stdout",
     "output_type": "stream",
     "text": [
      "(1996, 1)\n"
     ]
    }
   ],
   "source": [
    "test_feature_data = np.matmul(test_pure_data,W_Mat)\n",
    "print(test_feature_data.shape)"
   ]
  },
  {
   "cell_type": "code",
   "execution_count": 63,
   "metadata": {},
   "outputs": [
    {
     "name": "stdout",
     "output_type": "stream",
     "text": [
      "[[ 3.25300000e+03+0.j  1.00000000e+00+0.j  1.92487217e+02+0.j]\n",
      " [ 3.25400000e+03+0.j  1.00000000e+00+0.j  1.63208303e+02+0.j]\n",
      " [ 3.25500000e+03+0.j  1.00000000e+00+0.j  3.25109494e+01+0.j]\n",
      " [ 3.25600000e+03+0.j  1.00000000e+00+0.j -1.57657292e+01+0.j]\n",
      " [ 3.25700000e+03+0.j  1.00000000e+00+0.j  7.08296722e-01+0.j]\n",
      " [ 3.25800000e+03+0.j  0.00000000e+00+0.j -1.81419784e+01+0.j]\n",
      " [ 3.25900000e+03+0.j  0.00000000e+00+0.j -4.99333771e+00+0.j]\n",
      " [ 3.26000000e+03+0.j  0.00000000e+00+0.j -2.58836012e+01+0.j]\n",
      " [ 3.26100000e+03+0.j  0.00000000e+00+0.j  7.63014406e+01+0.j]\n",
      " [ 3.26200000e+03+0.j  0.00000000e+00+0.j  9.71266379e+00+0.j]\n",
      " [ 3.26300000e+03+0.j  0.00000000e+00+0.j -5.17643356e+01+0.j]\n",
      " [ 3.26400000e+03+0.j  0.00000000e+00+0.j  1.21368791e+02+0.j]\n",
      " [ 3.26500000e+03+0.j  0.00000000e+00+0.j -1.06420927e+02+0.j]\n",
      " [ 3.26600000e+03+0.j  0.00000000e+00+0.j -8.94803776e+01+0.j]\n",
      " [ 3.26700000e+03+0.j  0.00000000e+00+0.j  2.70230013e+00+0.j]\n",
      " [ 3.26800000e+03+0.j  0.00000000e+00+0.j -9.41691904e+01+0.j]\n",
      " [ 3.26900000e+03+0.j  1.00000000e+00+0.j -2.77372167e+01+0.j]\n",
      " [ 3.27000000e+03+0.j  0.00000000e+00+0.j -3.50660230e+02+0.j]\n",
      " [ 3.27100000e+03+0.j  0.00000000e+00+0.j -1.83310722e+02+0.j]\n",
      " [ 3.27200000e+03+0.j  0.00000000e+00+0.j -1.27228825e+02+0.j]]\n"
     ]
    }
   ],
   "source": [
    "# 获得包含特征的完全数据\n",
    "test_feature = np.concatenate((data_test_label,test_feature_data),axis=1)\n",
    "print(test_feature[30:50])"
   ]
  },
  {
   "cell_type": "code",
   "execution_count": 64,
   "metadata": {},
   "outputs": [
    {
     "name": "stderr",
     "output_type": "stream",
     "text": [
      "d:\\ProgramData\\Anaconda3\\envs\\for2060\\lib\\site-packages\\matplotlib\\collections.py:200: ComplexWarning: Casting complex values to real discards the imaginary part\n",
      "  offsets = np.asanyarray(offsets, float)\n"
     ]
    },
    {
     "data": {
      "text/plain": [
       "<matplotlib.collections.PathCollection at 0x22b49b5c208>"
      ]
     },
     "execution_count": 64,
     "metadata": {},
     "output_type": "execute_result"
    },
    {
     "data": {
      "image/png": "[encoded data removed]",
      "text/plain": [
       "<Figure size 432x288 with 1 Axes>"
      ]
     },
     "metadata": {
      "needs_background": "light"
     },
     "output_type": "display_data"
    }
   ],
   "source": [
    "# 绘制散点图，观察特征值的分布情况\n",
    "import matplotlib.pyplot as plt\n",
    "\n",
    "plt.scatter(test_feature[:,2],test_feature[:,1])"
   ]
  },
  {
   "cell_type": "code",
   "execution_count": 65,
   "metadata": {},
   "outputs": [
    {
     "data": {
      "text/plain": [
       "array([-176.61375408+0.j,   76.31677382+0.j])"
      ]
     },
     "execution_count": 65,
     "metadata": {},
     "output_type": "execute_result"
    }
   ],
   "source": [
    "# 读取模型的中心点\n",
    "mean = np.load('./FaceDataset/mean.npy')\n",
    "mean"
   ]
  },
  {
   "cell_type": "code",
   "execution_count": 66,
   "metadata": {},
   "outputs": [
    {
     "name": "stdout",
     "output_type": "stream",
     "text": [
      "(1996,)\n",
      "[0. 0. 1. 1. 1. 1. 1. 1. 1. 0.]\n",
      "[0.+0.j 0.+0.j 1.+0.j 1.+0.j 1.+0.j 1.+0.j 1.+0.j 1.+0.j 1.+0.j 1.+0.j]\n"
     ]
    }
   ],
   "source": [
    "# 一些函数\n",
    "def Cal_distance(x1,x2):\n",
    "    return (x1-x2)*(x1-x2)\n",
    "\n",
    "def predict(x,C0,C1):\n",
    "    if Cal_distance(x,C0)<Cal_distance(x,C1):\n",
    "        return 0\n",
    "    else:\n",
    "        return 1\n",
    "\n",
    "# 对训练集进行预测\n",
    "predict_train = np.zeros(1996)\n",
    "print(predict_train.shape)\n",
    "j = 0\n",
    "for line in test_feature:\n",
    "    predict_train[j] = predict(line[2],mean[0],mean[1])\n",
    "    j += 1\n",
    "print(predict_train[0:10])\n",
    "print(test_feature[0:10,1])"
   ]
  },
  {
   "cell_type": "code",
   "execution_count": 67,
   "metadata": {},
   "outputs": [
    {
     "data": {
      "text/plain": [
       "0.7030545818728092"
      ]
     },
     "execution_count": 67,
     "metadata": {},
     "output_type": "execute_result"
    }
   ],
   "source": [
    "# 验证准确率\n",
    "cnt = 0\n",
    "for i in range(0,1996):\n",
    "    if (predict_train[i] == test_feature[i,1]):\n",
    "        cnt+=1\n",
    "acc = cnt/1997\n",
    "acc"
   ]
  },
  {
   "cell_type": "code",
   "execution_count": 2,
   "metadata": {},
   "outputs": [
    {
     "ename": "NameError",
     "evalue": "name 'numpy' is not defined",
     "output_type": "error",
     "traceback": [
      "\u001b[1;31m---------------------------------------------------------------------------\u001b[0m",
      "\u001b[1;31mNameError\u001b[0m                                 Traceback (most recent call last)",
      "\u001b[1;32m~\\AppData\\Local\\Temp\\ipykernel_20604\\4124310332.py\u001b[0m in \u001b[0;36m<module>\u001b[1;34m\u001b[0m\n\u001b[1;32m----> 1\u001b[1;33m \u001b[0mnumpy\u001b[0m \u001b[1;33m-\u001b[0m\u001b[0mV\u001b[0m\u001b[1;33m\u001b[0m\u001b[1;33m\u001b[0m\u001b[0m\n\u001b[0m",
      "\u001b[1;31mNameError\u001b[0m: name 'numpy' is not defined"
     ]
    }
   ],
   "source": []
  },
  {
   "cell_type": "code",
   "execution_count": null,
   "metadata": {},
   "outputs": [],
   "source": []
  }
 ],
 "metadata": {
  "kernelspec": {
   "display_name": "Python 3.7.13 ('for2060')",
   "language": "python",
   "name": "python3"
  },
  "language_info": {
   "codemirror_mode": {
    "name": "ipython",
    "version": 3
   },
   "file_extension": ".py",
   "mimetype": "text/x-python",
   "name": "python",
   "nbconvert_exporter": "python",
   "pygments_lexer": "ipython3",
   "version": "3.7.13"
  },
  "orig_nbformat": 4,
  "vscode": {
   "interpreter": {
    "hash": "9eb80d58708016dff1abaa38160433fcc32a82dd47e68853c4488d0f5fabc508"
   }
  }
 },
 "nbformat": 4,
 "nbformat_minor": 2
}
